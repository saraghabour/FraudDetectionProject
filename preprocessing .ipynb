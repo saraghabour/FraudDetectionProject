{
 "cells": [
  {
   "cell_type": "code",
   "execution_count": 1,
   "id": "ac2ffc59",
   "metadata": {},
   "outputs": [],
   "source": [
    "#Constants\n",
    "DATA_PATH = 'C:/Users/Ahmed Sadek/Fraud Detection Project/PS_20174392719_1491204439457_log.csv'\n",
    "EXPORT_PATH = 'c:/Users/Ahmed Sadek/Fraud Detection Project/preprocessing_df.pkl'\n",
    "REPLACE_DICT= {\n",
    "    'type':{'CASH_OUT':0,'PAYMENT':1, 'CASH_IN':2, 'TRANSFER':3, 'DEBIT':4}\n",
    "    }"
   ]
  },
  {
   "cell_type": "code",
   "execution_count": 2,
   "id": "2d6241da",
   "metadata": {},
   "outputs": [],
   "source": [
    "import numpy as np\n",
    "import pandas as pd\n",
    "import logging\n",
    "import pickle"
   ]
  },
  {
   "cell_type": "code",
   "execution_count": 3,
   "id": "6f350805",
   "metadata": {},
   "outputs": [],
   "source": [
    "df = pd.read_csv(DATA_PATH)"
   ]
  },
  {
   "cell_type": "code",
   "execution_count": 4,
   "id": "837ee6da",
   "metadata": {},
   "outputs": [
    {
     "data": {
      "text/plain": [
       "(6362620, 11)"
      ]
     },
     "execution_count": 4,
     "metadata": {},
     "output_type": "execute_result"
    }
   ],
   "source": [
    "df.shape"
   ]
  },
  {
   "cell_type": "code",
   "execution_count": 10,
   "id": "9eebc857",
   "metadata": {},
   "outputs": [],
   "source": [
    "for col, replacement in REPLACE_DICT.items():\n",
    "    df[col] = df[col].replace(replacement).astype(np.integer)"
   ]
  },
  {
   "cell_type": "code",
   "execution_count": 11,
   "id": "10e2358c",
   "metadata": {},
   "outputs": [
    {
     "data": {
      "text/plain": [
       "0    2237500\n",
       "1    2151495\n",
       "2    1399284\n",
       "3     532909\n",
       "4      41432\n",
       "Name: type, dtype: int64"
      ]
     },
     "execution_count": 11,
     "metadata": {},
     "output_type": "execute_result"
    }
   ],
   "source": [
    "df['type'].value_counts()"
   ]
  },
  {
   "cell_type": "code",
   "execution_count": null,
   "id": "3f31f846",
   "metadata": {},
   "outputs": [],
   "source": [
    "#checking Missing values"
   ]
  },
  {
   "cell_type": "code",
   "execution_count": 12,
   "id": "d4ae0b6b",
   "metadata": {},
   "outputs": [
    {
     "name": "stdout",
     "output_type": "stream",
     "text": [
      "Fortunately, there aren't missing values in the dataset.\n"
     ]
    }
   ],
   "source": [
    "if df.isnull().values.any():\n",
    "    print(\"Unfortunately, there are missing values in the dataset\\n\")\n",
    "    df.dropna(inplace=True)\n",
    "    print(df.shape)\n",
    "else:\n",
    "    print(\"Fortunately, there aren\\'t missing values in the dataset.\")"
   ]
  },
  {
   "cell_type": "code",
   "execution_count": null,
   "id": "7fdcd9bd",
   "metadata": {},
   "outputs": [],
   "source": [
    "#Dropping unnecessary features"
   ]
  },
  {
   "cell_type": "code",
   "execution_count": 13,
   "id": "3c1e69be",
   "metadata": {},
   "outputs": [],
   "source": [
    "df.drop(['nameOrig','nameDest']  , axis=1 , inplace=True)"
   ]
  },
  {
   "cell_type": "code",
   "execution_count": 14,
   "id": "d5f98e15",
   "metadata": {},
   "outputs": [
    {
     "data": {
      "text/plain": [
       "Index(['step', 'type', 'amount', 'oldbalanceOrg', 'newbalanceOrig',\n",
       "       'oldbalanceDest', 'newbalanceDest', 'isFraud', 'isFlaggedFraud'],\n",
       "      dtype='object')"
      ]
     },
     "execution_count": 14,
     "metadata": {},
     "output_type": "execute_result"
    }
   ],
   "source": [
    "df.columns"
   ]
  },
  {
   "cell_type": "code",
   "execution_count": 15,
   "id": "cbd06ed9",
   "metadata": {},
   "outputs": [],
   "source": [
    "df.to_pickle(EXPORT_PATH)"
   ]
  },
  {
   "cell_type": "code",
   "execution_count": null,
   "id": "9e67af23",
   "metadata": {},
   "outputs": [],
   "source": []
  }
 ],
 "metadata": {
  "kernelspec": {
   "display_name": "Python 3 (ipykernel)",
   "language": "python",
   "name": "python3"
  },
  "language_info": {
   "codemirror_mode": {
    "name": "ipython",
    "version": 3
   },
   "file_extension": ".py",
   "mimetype": "text/x-python",
   "name": "python",
   "nbconvert_exporter": "python",
   "pygments_lexer": "ipython3",
   "version": "3.9.12"
  }
 },
 "nbformat": 4,
 "nbformat_minor": 5
}
