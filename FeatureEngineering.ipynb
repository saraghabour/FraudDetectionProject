{
 "cells": [
  {
   "cell_type": "code",
   "execution_count": 1,
   "id": "e58d5c8c",
   "metadata": {},
   "outputs": [],
   "source": [
    "import pandas as pd\n",
    "import pickle \n",
    "import os\n",
    "import seaborn as sns\n",
    "import matplotlib.pyplot as plt\n",
    "%matplotlib inline"
   ]
  },
  {
   "cell_type": "code",
   "execution_count": 2,
   "id": "70c2722b",
   "metadata": {},
   "outputs": [],
   "source": [
    "for dirname, _, filenames in os.walk('analytic_df.pkl'):\n",
    "    for filename in filenames:\n",
    "        print(os.path.join(dirname, filename))"
   ]
  },
  {
   "cell_type": "code",
   "execution_count": 3,
   "id": "e7feff41",
   "metadata": {},
   "outputs": [],
   "source": [
    "df = pd.read_pickle('analytic_df.pkl')"
   ]
  },
  {
   "cell_type": "code",
   "execution_count": 4,
   "id": "f93919d7",
   "metadata": {},
   "outputs": [
    {
     "data": {
      "text/plain": [
       "Index(['step', 'type', 'amount', 'oldbalanceOrg', 'newbalanceOrig',\n",
       "       'oldbalanceDest', 'newbalanceDest', 'isFraud'],\n",
       "      dtype='object')"
      ]
     },
     "execution_count": 4,
     "metadata": {},
     "output_type": "execute_result"
    }
   ],
   "source": [
    "df.columns"
   ]
  },
  {
   "cell_type": "code",
   "execution_count": 5,
   "id": "cf73e5fb",
   "metadata": {},
   "outputs": [
    {
     "data": {
      "text/plain": [
       "<AxesSubplot:ylabel='isFraud'>"
      ]
     },
     "execution_count": 5,
     "metadata": {},
     "output_type": "execute_result"
    },
    {
     "data": {
      "image/png": "[encoded data removed]",
      "text/plain": [
       "<Figure size 432x288 with 1 Axes>"
      ]
     },
     "metadata": {},
     "output_type": "display_data"
    }
   ],
   "source": [
    "data_fraud=df['isFraud'].value_counts()\n",
    "data_fraud.plot.pie(autopct='%.2f')"
   ]
  },
  {
   "cell_type": "code",
   "execution_count": null,
   "id": "c2c5fe33",
   "metadata": {},
   "outputs": [],
   "source": [
    "#As showen we need to do some feature engineer into our data set,\n",
    "#to make our data balanced and accurte for model be more correct and normal"
   ]
  },
  {
   "cell_type": "code",
   "execution_count": 6,
   "id": "e3ac5de0",
   "metadata": {},
   "outputs": [],
   "source": [
    "c_class_0, c_class_1 = df.isFraud.value_counts()\n",
    "\n",
    "x= df[df['isFraud']==0]\n",
    "y= df[df['isFraud']==1]"
   ]
  },
  {
   "cell_type": "code",
   "execution_count": 7,
   "id": "55435984",
   "metadata": {},
   "outputs": [
    {
     "data": {
      "text/plain": [
       "<AxesSubplot:title={'center':'Under Sampling'}, ylabel='isFraud'>"
      ]
     },
     "execution_count": 7,
     "metadata": {},
     "output_type": "execute_result"
    },
    {
     "data": {
      "image/png": "[encoded data removed]",
      "text/plain": [
       "<Figure size 432x288 with 1 Axes>"
      ]
     },
     "metadata": {},
     "output_type": "display_data"
    }
   ],
   "source": [
    "data_class_0_under = x.sample(c_class_1)\n",
    "# Here we are reducing the number of records with 0 as label to that of number of records equal to 1\n",
    "# Pandas sample() is used to randomly select passed number of records\n",
    "\n",
    "data_test_under = pd.concat([data_class_0_under, y], axis=0)\n",
    "#Concatening the data one after the other to create one single dataframe containing all the data\n",
    "\n",
    "data_test_under.isFraud.value_counts().plot(kind='pie',title='Under Sampling')"
   ]
  },
  {
   "cell_type": "code",
   "execution_count": 8,
   "id": "657703ef",
   "metadata": {},
   "outputs": [
    {
     "data": {
      "text/plain": [
       "(16426, 8)"
      ]
     },
     "execution_count": 8,
     "metadata": {},
     "output_type": "execute_result"
    }
   ],
   "source": [
    "data_test_under.shape"
   ]
  },
  {
   "cell_type": "code",
   "execution_count": 9,
   "id": "7725fb6d",
   "metadata": {},
   "outputs": [
    {
     "data": {
      "text/html": [
       "<div>\n",
       "<style scoped>\n",
       "    .dataframe tbody tr th:only-of-type {\n",
       "        vertical-align: middle;\n",
       "    }\n",
       "\n",
       "    .dataframe tbody tr th {\n",
       "        vertical-align: top;\n",
       "    }\n",
       "\n",
       "    .dataframe thead th {\n",
       "        text-align: right;\n",
       "    }\n",
       "</style>\n",
       "<table border=\"1\" class=\"dataframe\">\n",
       "  <thead>\n",
       "    <tr style=\"text-align: right;\">\n",
       "      <th></th>\n",
       "      <th>step</th>\n",
       "      <th>type</th>\n",
       "      <th>amount</th>\n",
       "      <th>oldbalanceOrg</th>\n",
       "      <th>newbalanceOrig</th>\n",
       "      <th>oldbalanceDest</th>\n",
       "      <th>newbalanceDest</th>\n",
       "      <th>isFraud</th>\n",
       "    </tr>\n",
       "  </thead>\n",
       "  <tbody>\n",
       "    <tr>\n",
       "      <th>1533542</th>\n",
       "      <td>154</td>\n",
       "      <td>2</td>\n",
       "      <td>259500.87</td>\n",
       "      <td>2602539.43</td>\n",
       "      <td>2862040.30</td>\n",
       "      <td>2277849.22</td>\n",
       "      <td>2018348.35</td>\n",
       "      <td>0</td>\n",
       "    </tr>\n",
       "    <tr>\n",
       "      <th>6185610</th>\n",
       "      <td>567</td>\n",
       "      <td>1</td>\n",
       "      <td>26757.98</td>\n",
       "      <td>108635.83</td>\n",
       "      <td>81877.85</td>\n",
       "      <td>0.00</td>\n",
       "      <td>0.00</td>\n",
       "      <td>0</td>\n",
       "    </tr>\n",
       "    <tr>\n",
       "      <th>3005197</th>\n",
       "      <td>232</td>\n",
       "      <td>1</td>\n",
       "      <td>11223.25</td>\n",
       "      <td>40997.65</td>\n",
       "      <td>29774.40</td>\n",
       "      <td>0.00</td>\n",
       "      <td>0.00</td>\n",
       "      <td>0</td>\n",
       "    </tr>\n",
       "    <tr>\n",
       "      <th>822808</th>\n",
       "      <td>40</td>\n",
       "      <td>3</td>\n",
       "      <td>284852.00</td>\n",
       "      <td>0.00</td>\n",
       "      <td>0.00</td>\n",
       "      <td>1526139.91</td>\n",
       "      <td>1810991.91</td>\n",
       "      <td>0</td>\n",
       "    </tr>\n",
       "    <tr>\n",
       "      <th>671317</th>\n",
       "      <td>36</td>\n",
       "      <td>1</td>\n",
       "      <td>27152.63</td>\n",
       "      <td>0.00</td>\n",
       "      <td>0.00</td>\n",
       "      <td>0.00</td>\n",
       "      <td>0.00</td>\n",
       "      <td>0</td>\n",
       "    </tr>\n",
       "    <tr>\n",
       "      <th>...</th>\n",
       "      <td>...</td>\n",
       "      <td>...</td>\n",
       "      <td>...</td>\n",
       "      <td>...</td>\n",
       "      <td>...</td>\n",
       "      <td>...</td>\n",
       "      <td>...</td>\n",
       "      <td>...</td>\n",
       "    </tr>\n",
       "    <tr>\n",
       "      <th>6362615</th>\n",
       "      <td>743</td>\n",
       "      <td>0</td>\n",
       "      <td>339682.13</td>\n",
       "      <td>339682.13</td>\n",
       "      <td>0.00</td>\n",
       "      <td>0.00</td>\n",
       "      <td>339682.13</td>\n",
       "      <td>1</td>\n",
       "    </tr>\n",
       "    <tr>\n",
       "      <th>6362616</th>\n",
       "      <td>743</td>\n",
       "      <td>3</td>\n",
       "      <td>6311409.28</td>\n",
       "      <td>6311409.28</td>\n",
       "      <td>0.00</td>\n",
       "      <td>0.00</td>\n",
       "      <td>0.00</td>\n",
       "      <td>1</td>\n",
       "    </tr>\n",
       "    <tr>\n",
       "      <th>6362617</th>\n",
       "      <td>743</td>\n",
       "      <td>0</td>\n",
       "      <td>6311409.28</td>\n",
       "      <td>6311409.28</td>\n",
       "      <td>0.00</td>\n",
       "      <td>68488.84</td>\n",
       "      <td>6379898.11</td>\n",
       "      <td>1</td>\n",
       "    </tr>\n",
       "    <tr>\n",
       "      <th>6362618</th>\n",
       "      <td>743</td>\n",
       "      <td>3</td>\n",
       "      <td>850002.52</td>\n",
       "      <td>850002.52</td>\n",
       "      <td>0.00</td>\n",
       "      <td>0.00</td>\n",
       "      <td>0.00</td>\n",
       "      <td>1</td>\n",
       "    </tr>\n",
       "    <tr>\n",
       "      <th>6362619</th>\n",
       "      <td>743</td>\n",
       "      <td>0</td>\n",
       "      <td>850002.52</td>\n",
       "      <td>850002.52</td>\n",
       "      <td>0.00</td>\n",
       "      <td>6510099.11</td>\n",
       "      <td>7360101.63</td>\n",
       "      <td>1</td>\n",
       "    </tr>\n",
       "  </tbody>\n",
       "</table>\n",
       "<p>16426 rows × 8 columns</p>\n",
       "</div>"
      ],
      "text/plain": [
       "         step  type      amount  oldbalanceOrg  newbalanceOrig  \\\n",
       "1533542   154     2   259500.87     2602539.43      2862040.30   \n",
       "6185610   567     1    26757.98      108635.83        81877.85   \n",
       "3005197   232     1    11223.25       40997.65        29774.40   \n",
       "822808     40     3   284852.00           0.00            0.00   \n",
       "671317     36     1    27152.63           0.00            0.00   \n",
       "...       ...   ...         ...            ...             ...   \n",
       "6362615   743     0   339682.13      339682.13            0.00   \n",
       "6362616   743     3  6311409.28     6311409.28            0.00   \n",
       "6362617   743     0  6311409.28     6311409.28            0.00   \n",
       "6362618   743     3   850002.52      850002.52            0.00   \n",
       "6362619   743     0   850002.52      850002.52            0.00   \n",
       "\n",
       "         oldbalanceDest  newbalanceDest  isFraud  \n",
       "1533542      2277849.22      2018348.35        0  \n",
       "6185610            0.00            0.00        0  \n",
       "3005197            0.00            0.00        0  \n",
       "822808       1526139.91      1810991.91        0  \n",
       "671317             0.00            0.00        0  \n",
       "...                 ...             ...      ...  \n",
       "6362615            0.00       339682.13        1  \n",
       "6362616            0.00            0.00        1  \n",
       "6362617        68488.84      6379898.11        1  \n",
       "6362618            0.00            0.00        1  \n",
       "6362619      6510099.11      7360101.63        1  \n",
       "\n",
       "[16426 rows x 8 columns]"
      ]
     },
     "execution_count": 9,
     "metadata": {},
     "output_type": "execute_result"
    }
   ],
   "source": [
    "data_test_under"
   ]
  },
  {
   "cell_type": "code",
   "execution_count": 10,
   "id": "7de873c2",
   "metadata": {},
   "outputs": [
    {
     "data": {
      "image/png": "[encoded data removed]",
      "text/plain": [
       "<Figure size 720x576 with 1 Axes>"
      ]
     },
     "metadata": {
      "needs_background": "light"
     },
     "output_type": "display_data"
    }
   ],
   "source": [
    "plt.figure(figsize=(10,8))\n",
    "sns.boxplot(data=data_test_under[[\"amount\",\"oldbalanceOrg\",\"newbalanceOrig\",\"oldbalanceDest\",\"newbalanceDest\"]],orient=\"h\")\n",
    "plt.show()"
   ]
  },
  {
   "cell_type": "code",
   "execution_count": 11,
   "id": "04c6b352",
   "metadata": {},
   "outputs": [
    {
     "data": {
      "text/plain": [
       "11721693.312576655"
      ]
     },
     "execution_count": 11,
     "metadata": {},
     "output_type": "execute_result"
    }
   ],
   "source": [
    "upper_limit=data_test_under[\"oldbalanceDest\"].mean()+3*data_test_under[\"oldbalanceDest\"].std()\n",
    "upper_limit"
   ]
  },
  {
   "cell_type": "code",
   "execution_count": 12,
   "id": "0e2c6847",
   "metadata": {},
   "outputs": [
    {
     "data": {
      "text/plain": [
       "-10010690.928995743"
      ]
     },
     "execution_count": 12,
     "metadata": {},
     "output_type": "execute_result"
    }
   ],
   "source": [
    "lower_limit=data_test_under[\"oldbalanceDest\"].mean()-3*data_test_under[\"oldbalanceDest\"].std()\n",
    "lower_limit"
   ]
  },
  {
   "cell_type": "code",
   "execution_count": 13,
   "id": "bf089cda",
   "metadata": {},
   "outputs": [
    {
     "data": {
      "text/html": [
       "<div>\n",
       "<style scoped>\n",
       "    .dataframe tbody tr th:only-of-type {\n",
       "        vertical-align: middle;\n",
       "    }\n",
       "\n",
       "    .dataframe tbody tr th {\n",
       "        vertical-align: top;\n",
       "    }\n",
       "\n",
       "    .dataframe thead th {\n",
       "        text-align: right;\n",
       "    }\n",
       "</style>\n",
       "<table border=\"1\" class=\"dataframe\">\n",
       "  <thead>\n",
       "    <tr style=\"text-align: right;\">\n",
       "      <th></th>\n",
       "      <th>step</th>\n",
       "      <th>type</th>\n",
       "      <th>amount</th>\n",
       "      <th>oldbalanceOrg</th>\n",
       "      <th>newbalanceOrig</th>\n",
       "      <th>oldbalanceDest</th>\n",
       "      <th>newbalanceDest</th>\n",
       "      <th>isFraud</th>\n",
       "    </tr>\n",
       "  </thead>\n",
       "  <tbody>\n",
       "    <tr>\n",
       "      <th>1533542</th>\n",
       "      <td>154</td>\n",
       "      <td>2</td>\n",
       "      <td>259500.87</td>\n",
       "      <td>2602539.43</td>\n",
       "      <td>2862040.30</td>\n",
       "      <td>2277849.22</td>\n",
       "      <td>2018348.35</td>\n",
       "      <td>0</td>\n",
       "    </tr>\n",
       "    <tr>\n",
       "      <th>6185610</th>\n",
       "      <td>567</td>\n",
       "      <td>1</td>\n",
       "      <td>26757.98</td>\n",
       "      <td>108635.83</td>\n",
       "      <td>81877.85</td>\n",
       "      <td>0.00</td>\n",
       "      <td>0.00</td>\n",
       "      <td>0</td>\n",
       "    </tr>\n",
       "    <tr>\n",
       "      <th>3005197</th>\n",
       "      <td>232</td>\n",
       "      <td>1</td>\n",
       "      <td>11223.25</td>\n",
       "      <td>40997.65</td>\n",
       "      <td>29774.40</td>\n",
       "      <td>0.00</td>\n",
       "      <td>0.00</td>\n",
       "      <td>0</td>\n",
       "    </tr>\n",
       "    <tr>\n",
       "      <th>822808</th>\n",
       "      <td>40</td>\n",
       "      <td>3</td>\n",
       "      <td>284852.00</td>\n",
       "      <td>0.00</td>\n",
       "      <td>0.00</td>\n",
       "      <td>1526139.91</td>\n",
       "      <td>1810991.91</td>\n",
       "      <td>0</td>\n",
       "    </tr>\n",
       "    <tr>\n",
       "      <th>671317</th>\n",
       "      <td>36</td>\n",
       "      <td>1</td>\n",
       "      <td>27152.63</td>\n",
       "      <td>0.00</td>\n",
       "      <td>0.00</td>\n",
       "      <td>0.00</td>\n",
       "      <td>0.00</td>\n",
       "      <td>0</td>\n",
       "    </tr>\n",
       "  </tbody>\n",
       "</table>\n",
       "</div>"
      ],
      "text/plain": [
       "         step  type     amount  oldbalanceOrg  newbalanceOrig  oldbalanceDest  \\\n",
       "1533542   154     2  259500.87     2602539.43      2862040.30      2277849.22   \n",
       "6185610   567     1   26757.98      108635.83        81877.85            0.00   \n",
       "3005197   232     1   11223.25       40997.65        29774.40            0.00   \n",
       "822808     40     3  284852.00           0.00            0.00      1526139.91   \n",
       "671317     36     1   27152.63           0.00            0.00            0.00   \n",
       "\n",
       "         newbalanceDest  isFraud  \n",
       "1533542      2018348.35        0  \n",
       "6185610            0.00        0  \n",
       "3005197            0.00        0  \n",
       "822808       1810991.91        0  \n",
       "671317             0.00        0  "
      ]
     },
     "execution_count": 13,
     "metadata": {},
     "output_type": "execute_result"
    }
   ],
   "source": [
    "data_test_under=data_test_under[(data_test_under.oldbalanceDest<upper_limit) & (data_test_under.oldbalanceDest>lower_limit)]\n",
    "data_test_under.head()"
   ]
  },
  {
   "cell_type": "code",
   "execution_count": 14,
   "id": "5c680b73",
   "metadata": {},
   "outputs": [
    {
     "data": {
      "text/plain": [
       "7534268.664395416"
      ]
     },
     "execution_count": 14,
     "metadata": {},
     "output_type": "execute_result"
    }
   ],
   "source": [
    "upper_limit2=data_test_under[\"newbalanceDest\"].mean()+3*data_test_under[\"newbalanceDest\"].std()\n",
    "upper_limit2\n"
   ]
  },
  {
   "cell_type": "code",
   "execution_count": 15,
   "id": "fbd7a51b",
   "metadata": {},
   "outputs": [
    {
     "data": {
      "text/plain": [
       "-5401707.591516854"
      ]
     },
     "execution_count": 15,
     "metadata": {},
     "output_type": "execute_result"
    }
   ],
   "source": [
    "lower_limit2=data_test_under[\"newbalanceDest\"].mean()-3*data_test_under[\"newbalanceDest\"].std()\n",
    "lower_limit2"
   ]
  },
  {
   "cell_type": "code",
   "execution_count": 16,
   "id": "a0127437",
   "metadata": {},
   "outputs": [
    {
     "data": {
      "text/html": [
       "<div>\n",
       "<style scoped>\n",
       "    .dataframe tbody tr th:only-of-type {\n",
       "        vertical-align: middle;\n",
       "    }\n",
       "\n",
       "    .dataframe tbody tr th {\n",
       "        vertical-align: top;\n",
       "    }\n",
       "\n",
       "    .dataframe thead th {\n",
       "        text-align: right;\n",
       "    }\n",
       "</style>\n",
       "<table border=\"1\" class=\"dataframe\">\n",
       "  <thead>\n",
       "    <tr style=\"text-align: right;\">\n",
       "      <th></th>\n",
       "      <th>step</th>\n",
       "      <th>type</th>\n",
       "      <th>amount</th>\n",
       "      <th>oldbalanceOrg</th>\n",
       "      <th>newbalanceOrig</th>\n",
       "      <th>oldbalanceDest</th>\n",
       "      <th>newbalanceDest</th>\n",
       "      <th>isFraud</th>\n",
       "    </tr>\n",
       "  </thead>\n",
       "  <tbody>\n",
       "    <tr>\n",
       "      <th>3853466</th>\n",
       "      <td>283</td>\n",
       "      <td>0</td>\n",
       "      <td>221744.28</td>\n",
       "      <td>0.00</td>\n",
       "      <td>0.0</td>\n",
       "      <td>9748187.99</td>\n",
       "      <td>9969932.27</td>\n",
       "      <td>0</td>\n",
       "    </tr>\n",
       "    <tr>\n",
       "      <th>5350658</th>\n",
       "      <td>375</td>\n",
       "      <td>3</td>\n",
       "      <td>6900453.70</td>\n",
       "      <td>0.00</td>\n",
       "      <td>0.0</td>\n",
       "      <td>11426761.01</td>\n",
       "      <td>18327214.72</td>\n",
       "      <td>0</td>\n",
       "    </tr>\n",
       "    <tr>\n",
       "      <th>5370707</th>\n",
       "      <td>376</td>\n",
       "      <td>0</td>\n",
       "      <td>94050.75</td>\n",
       "      <td>0.00</td>\n",
       "      <td>0.0</td>\n",
       "      <td>7890953.08</td>\n",
       "      <td>7985003.83</td>\n",
       "      <td>0</td>\n",
       "    </tr>\n",
       "    <tr>\n",
       "      <th>6042620</th>\n",
       "      <td>490</td>\n",
       "      <td>3</td>\n",
       "      <td>138456.85</td>\n",
       "      <td>60278.00</td>\n",
       "      <td>0.0</td>\n",
       "      <td>9602057.12</td>\n",
       "      <td>9740513.98</td>\n",
       "      <td>0</td>\n",
       "    </tr>\n",
       "    <tr>\n",
       "      <th>2641924</th>\n",
       "      <td>209</td>\n",
       "      <td>3</td>\n",
       "      <td>44742.30</td>\n",
       "      <td>5014.00</td>\n",
       "      <td>0.0</td>\n",
       "      <td>10542829.80</td>\n",
       "      <td>10587572.10</td>\n",
       "      <td>0</td>\n",
       "    </tr>\n",
       "    <tr>\n",
       "      <th>...</th>\n",
       "      <td>...</td>\n",
       "      <td>...</td>\n",
       "      <td>...</td>\n",
       "      <td>...</td>\n",
       "      <td>...</td>\n",
       "      <td>...</td>\n",
       "      <td>...</td>\n",
       "      <td>...</td>\n",
       "    </tr>\n",
       "    <tr>\n",
       "      <th>6362563</th>\n",
       "      <td>739</td>\n",
       "      <td>0</td>\n",
       "      <td>7758036.72</td>\n",
       "      <td>7758036.72</td>\n",
       "      <td>0.0</td>\n",
       "      <td>47778.61</td>\n",
       "      <td>7805815.33</td>\n",
       "      <td>1</td>\n",
       "    </tr>\n",
       "    <tr>\n",
       "      <th>6362577</th>\n",
       "      <td>741</td>\n",
       "      <td>0</td>\n",
       "      <td>10000000.00</td>\n",
       "      <td>10000000.00</td>\n",
       "      <td>0.0</td>\n",
       "      <td>0.00</td>\n",
       "      <td>10000000.00</td>\n",
       "      <td>1</td>\n",
       "    </tr>\n",
       "    <tr>\n",
       "      <th>6362579</th>\n",
       "      <td>741</td>\n",
       "      <td>0</td>\n",
       "      <td>10000000.00</td>\n",
       "      <td>10000000.00</td>\n",
       "      <td>0.0</td>\n",
       "      <td>35922.97</td>\n",
       "      <td>10035922.97</td>\n",
       "      <td>1</td>\n",
       "    </tr>\n",
       "    <tr>\n",
       "      <th>6362581</th>\n",
       "      <td>741</td>\n",
       "      <td>0</td>\n",
       "      <td>10000000.00</td>\n",
       "      <td>10000000.00</td>\n",
       "      <td>0.0</td>\n",
       "      <td>0.00</td>\n",
       "      <td>10000000.00</td>\n",
       "      <td>1</td>\n",
       "    </tr>\n",
       "    <tr>\n",
       "      <th>6362583</th>\n",
       "      <td>741</td>\n",
       "      <td>0</td>\n",
       "      <td>10000000.00</td>\n",
       "      <td>10000000.00</td>\n",
       "      <td>0.0</td>\n",
       "      <td>192912.98</td>\n",
       "      <td>10192912.98</td>\n",
       "      <td>1</td>\n",
       "    </tr>\n",
       "  </tbody>\n",
       "</table>\n",
       "<p>531 rows × 8 columns</p>\n",
       "</div>"
      ],
      "text/plain": [
       "         step  type       amount  oldbalanceOrg  newbalanceOrig  \\\n",
       "3853466   283     0    221744.28           0.00             0.0   \n",
       "5350658   375     3   6900453.70           0.00             0.0   \n",
       "5370707   376     0     94050.75           0.00             0.0   \n",
       "6042620   490     3    138456.85       60278.00             0.0   \n",
       "2641924   209     3     44742.30        5014.00             0.0   \n",
       "...       ...   ...          ...            ...             ...   \n",
       "6362563   739     0   7758036.72     7758036.72             0.0   \n",
       "6362577   741     0  10000000.00    10000000.00             0.0   \n",
       "6362579   741     0  10000000.00    10000000.00             0.0   \n",
       "6362581   741     0  10000000.00    10000000.00             0.0   \n",
       "6362583   741     0  10000000.00    10000000.00             0.0   \n",
       "\n",
       "         oldbalanceDest  newbalanceDest  isFraud  \n",
       "3853466      9748187.99      9969932.27        0  \n",
       "5350658     11426761.01     18327214.72        0  \n",
       "5370707      7890953.08      7985003.83        0  \n",
       "6042620      9602057.12      9740513.98        0  \n",
       "2641924     10542829.80     10587572.10        0  \n",
       "...                 ...             ...      ...  \n",
       "6362563        47778.61      7805815.33        1  \n",
       "6362577            0.00     10000000.00        1  \n",
       "6362579        35922.97     10035922.97        1  \n",
       "6362581            0.00     10000000.00        1  \n",
       "6362583       192912.98     10192912.98        1  \n",
       "\n",
       "[531 rows x 8 columns]"
      ]
     },
     "execution_count": 16,
     "metadata": {},
     "output_type": "execute_result"
    }
   ],
   "source": [
    "data_test_under[(data_test_under.newbalanceDest>upper_limit2) | (data_test_under.newbalanceDest<lower_limit2)]"
   ]
  },
  {
   "cell_type": "code",
   "execution_count": 17,
   "id": "4169d6e6",
   "metadata": {},
   "outputs": [
    {
     "data": {
      "text/html": [
       "<div>\n",
       "<style scoped>\n",
       "    .dataframe tbody tr th:only-of-type {\n",
       "        vertical-align: middle;\n",
       "    }\n",
       "\n",
       "    .dataframe tbody tr th {\n",
       "        vertical-align: top;\n",
       "    }\n",
       "\n",
       "    .dataframe thead th {\n",
       "        text-align: right;\n",
       "    }\n",
       "</style>\n",
       "<table border=\"1\" class=\"dataframe\">\n",
       "  <thead>\n",
       "    <tr style=\"text-align: right;\">\n",
       "      <th></th>\n",
       "      <th>step</th>\n",
       "      <th>type</th>\n",
       "      <th>amount</th>\n",
       "      <th>oldbalanceOrg</th>\n",
       "      <th>newbalanceOrig</th>\n",
       "      <th>oldbalanceDest</th>\n",
       "      <th>newbalanceDest</th>\n",
       "      <th>isFraud</th>\n",
       "    </tr>\n",
       "  </thead>\n",
       "  <tbody>\n",
       "    <tr>\n",
       "      <th>1533542</th>\n",
       "      <td>154</td>\n",
       "      <td>2</td>\n",
       "      <td>259500.87</td>\n",
       "      <td>2602539.43</td>\n",
       "      <td>2862040.30</td>\n",
       "      <td>2277849.22</td>\n",
       "      <td>2018348.35</td>\n",
       "      <td>0</td>\n",
       "    </tr>\n",
       "    <tr>\n",
       "      <th>6185610</th>\n",
       "      <td>567</td>\n",
       "      <td>1</td>\n",
       "      <td>26757.98</td>\n",
       "      <td>108635.83</td>\n",
       "      <td>81877.85</td>\n",
       "      <td>0.00</td>\n",
       "      <td>0.00</td>\n",
       "      <td>0</td>\n",
       "    </tr>\n",
       "    <tr>\n",
       "      <th>3005197</th>\n",
       "      <td>232</td>\n",
       "      <td>1</td>\n",
       "      <td>11223.25</td>\n",
       "      <td>40997.65</td>\n",
       "      <td>29774.40</td>\n",
       "      <td>0.00</td>\n",
       "      <td>0.00</td>\n",
       "      <td>0</td>\n",
       "    </tr>\n",
       "    <tr>\n",
       "      <th>822808</th>\n",
       "      <td>40</td>\n",
       "      <td>3</td>\n",
       "      <td>284852.00</td>\n",
       "      <td>0.00</td>\n",
       "      <td>0.00</td>\n",
       "      <td>1526139.91</td>\n",
       "      <td>1810991.91</td>\n",
       "      <td>0</td>\n",
       "    </tr>\n",
       "    <tr>\n",
       "      <th>671317</th>\n",
       "      <td>36</td>\n",
       "      <td>1</td>\n",
       "      <td>27152.63</td>\n",
       "      <td>0.00</td>\n",
       "      <td>0.00</td>\n",
       "      <td>0.00</td>\n",
       "      <td>0.00</td>\n",
       "      <td>0</td>\n",
       "    </tr>\n",
       "  </tbody>\n",
       "</table>\n",
       "</div>"
      ],
      "text/plain": [
       "         step  type     amount  oldbalanceOrg  newbalanceOrig  oldbalanceDest  \\\n",
       "1533542   154     2  259500.87     2602539.43      2862040.30      2277849.22   \n",
       "6185610   567     1   26757.98      108635.83        81877.85            0.00   \n",
       "3005197   232     1   11223.25       40997.65        29774.40            0.00   \n",
       "822808     40     3  284852.00           0.00            0.00      1526139.91   \n",
       "671317     36     1   27152.63           0.00            0.00            0.00   \n",
       "\n",
       "         newbalanceDest  isFraud  \n",
       "1533542      2018348.35        0  \n",
       "6185610            0.00        0  \n",
       "3005197            0.00        0  \n",
       "822808       1810991.91        0  \n",
       "671317             0.00        0  "
      ]
     },
     "execution_count": 17,
     "metadata": {},
     "output_type": "execute_result"
    }
   ],
   "source": [
    "data_test_under=data_test_under[(data_test_under.newbalanceDest<upper_limit2) & (data_test_under.newbalanceDest>lower_limit2)]\n",
    "data_test_under.head()"
   ]
  },
  {
   "cell_type": "code",
   "execution_count": 18,
   "id": "fcb347b3",
   "metadata": {},
   "outputs": [
    {
     "data": {
      "text/plain": [
       "10440312.776609166"
      ]
     },
     "execution_count": 18,
     "metadata": {},
     "output_type": "execute_result"
    }
   ],
   "source": [
    "upper_limit3=data_test_under[\"oldbalanceOrg\"].mean()+3*data_test_under[\"oldbalanceOrg\"].std()\n",
    "upper_limit3"
   ]
  },
  {
   "cell_type": "code",
   "execution_count": 19,
   "id": "f414ce5f",
   "metadata": {},
   "outputs": [
    {
     "data": {
      "text/plain": [
       "-8218530.576546906"
      ]
     },
     "execution_count": 19,
     "metadata": {},
     "output_type": "execute_result"
    }
   ],
   "source": [
    "lower_limit3=data_test_under[\"oldbalanceOrg\"].mean()-3*data_test_under[\"oldbalanceOrg\"].std()\n",
    "lower_limit3"
   ]
  },
  {
   "cell_type": "code",
   "execution_count": 20,
   "id": "3630ac4e",
   "metadata": {},
   "outputs": [
    {
     "data": {
      "text/html": [
       "<div>\n",
       "<style scoped>\n",
       "    .dataframe tbody tr th:only-of-type {\n",
       "        vertical-align: middle;\n",
       "    }\n",
       "\n",
       "    .dataframe tbody tr th {\n",
       "        vertical-align: top;\n",
       "    }\n",
       "\n",
       "    .dataframe thead th {\n",
       "        text-align: right;\n",
       "    }\n",
       "</style>\n",
       "<table border=\"1\" class=\"dataframe\">\n",
       "  <thead>\n",
       "    <tr style=\"text-align: right;\">\n",
       "      <th></th>\n",
       "      <th>step</th>\n",
       "      <th>type</th>\n",
       "      <th>amount</th>\n",
       "      <th>oldbalanceOrg</th>\n",
       "      <th>newbalanceOrig</th>\n",
       "      <th>oldbalanceDest</th>\n",
       "      <th>newbalanceDest</th>\n",
       "      <th>isFraud</th>\n",
       "    </tr>\n",
       "  </thead>\n",
       "  <tbody>\n",
       "    <tr>\n",
       "      <th>2101139</th>\n",
       "      <td>182</td>\n",
       "      <td>2</td>\n",
       "      <td>67133.86</td>\n",
       "      <td>14037260.16</td>\n",
       "      <td>14104394.02</td>\n",
       "      <td>3059842.18</td>\n",
       "      <td>2992708.31</td>\n",
       "      <td>0</td>\n",
       "    </tr>\n",
       "    <tr>\n",
       "      <th>3846603</th>\n",
       "      <td>282</td>\n",
       "      <td>2</td>\n",
       "      <td>182963.08</td>\n",
       "      <td>13744277.49</td>\n",
       "      <td>13927240.57</td>\n",
       "      <td>476812.51</td>\n",
       "      <td>293849.43</td>\n",
       "      <td>0</td>\n",
       "    </tr>\n",
       "    <tr>\n",
       "      <th>3193557</th>\n",
       "      <td>249</td>\n",
       "      <td>2</td>\n",
       "      <td>119933.23</td>\n",
       "      <td>15770388.18</td>\n",
       "      <td>15890321.41</td>\n",
       "      <td>4233799.52</td>\n",
       "      <td>4113866.28</td>\n",
       "      <td>0</td>\n",
       "    </tr>\n",
       "    <tr>\n",
       "      <th>461844</th>\n",
       "      <td>19</td>\n",
       "      <td>2</td>\n",
       "      <td>51555.62</td>\n",
       "      <td>22357282.20</td>\n",
       "      <td>22408837.82</td>\n",
       "      <td>1162759.93</td>\n",
       "      <td>1413778.31</td>\n",
       "      <td>0</td>\n",
       "    </tr>\n",
       "    <tr>\n",
       "      <th>4509931</th>\n",
       "      <td>325</td>\n",
       "      <td>2</td>\n",
       "      <td>99411.60</td>\n",
       "      <td>13780865.63</td>\n",
       "      <td>13880277.23</td>\n",
       "      <td>574739.03</td>\n",
       "      <td>475327.44</td>\n",
       "      <td>0</td>\n",
       "    </tr>\n",
       "    <tr>\n",
       "      <th>...</th>\n",
       "      <td>...</td>\n",
       "      <td>...</td>\n",
       "      <td>...</td>\n",
       "      <td>...</td>\n",
       "      <td>...</td>\n",
       "      <td>...</td>\n",
       "      <td>...</td>\n",
       "      <td>...</td>\n",
       "    </tr>\n",
       "    <tr>\n",
       "      <th>6362528</th>\n",
       "      <td>736</td>\n",
       "      <td>3</td>\n",
       "      <td>10000000.00</td>\n",
       "      <td>11314660.84</td>\n",
       "      <td>1314660.84</td>\n",
       "      <td>0.00</td>\n",
       "      <td>0.00</td>\n",
       "      <td>1</td>\n",
       "    </tr>\n",
       "    <tr>\n",
       "      <th>6362576</th>\n",
       "      <td>741</td>\n",
       "      <td>3</td>\n",
       "      <td>10000000.00</td>\n",
       "      <td>45674547.89</td>\n",
       "      <td>35674547.89</td>\n",
       "      <td>0.00</td>\n",
       "      <td>0.00</td>\n",
       "      <td>1</td>\n",
       "    </tr>\n",
       "    <tr>\n",
       "      <th>6362578</th>\n",
       "      <td>741</td>\n",
       "      <td>3</td>\n",
       "      <td>10000000.00</td>\n",
       "      <td>35674547.89</td>\n",
       "      <td>25674547.89</td>\n",
       "      <td>0.00</td>\n",
       "      <td>0.00</td>\n",
       "      <td>1</td>\n",
       "    </tr>\n",
       "    <tr>\n",
       "      <th>6362580</th>\n",
       "      <td>741</td>\n",
       "      <td>3</td>\n",
       "      <td>10000000.00</td>\n",
       "      <td>25674547.89</td>\n",
       "      <td>15674547.89</td>\n",
       "      <td>0.00</td>\n",
       "      <td>0.00</td>\n",
       "      <td>1</td>\n",
       "    </tr>\n",
       "    <tr>\n",
       "      <th>6362582</th>\n",
       "      <td>741</td>\n",
       "      <td>3</td>\n",
       "      <td>10000000.00</td>\n",
       "      <td>15674547.89</td>\n",
       "      <td>5674547.89</td>\n",
       "      <td>0.00</td>\n",
       "      <td>0.00</td>\n",
       "      <td>1</td>\n",
       "    </tr>\n",
       "  </tbody>\n",
       "</table>\n",
       "<p>301 rows × 8 columns</p>\n",
       "</div>"
      ],
      "text/plain": [
       "         step  type       amount  oldbalanceOrg  newbalanceOrig  \\\n",
       "2101139   182     2     67133.86    14037260.16     14104394.02   \n",
       "3846603   282     2    182963.08    13744277.49     13927240.57   \n",
       "3193557   249     2    119933.23    15770388.18     15890321.41   \n",
       "461844     19     2     51555.62    22357282.20     22408837.82   \n",
       "4509931   325     2     99411.60    13780865.63     13880277.23   \n",
       "...       ...   ...          ...            ...             ...   \n",
       "6362528   736     3  10000000.00    11314660.84      1314660.84   \n",
       "6362576   741     3  10000000.00    45674547.89     35674547.89   \n",
       "6362578   741     3  10000000.00    35674547.89     25674547.89   \n",
       "6362580   741     3  10000000.00    25674547.89     15674547.89   \n",
       "6362582   741     3  10000000.00    15674547.89      5674547.89   \n",
       "\n",
       "         oldbalanceDest  newbalanceDest  isFraud  \n",
       "2101139      3059842.18      2992708.31        0  \n",
       "3846603       476812.51       293849.43        0  \n",
       "3193557      4233799.52      4113866.28        0  \n",
       "461844       1162759.93      1413778.31        0  \n",
       "4509931       574739.03       475327.44        0  \n",
       "...                 ...             ...      ...  \n",
       "6362528            0.00            0.00        1  \n",
       "6362576            0.00            0.00        1  \n",
       "6362578            0.00            0.00        1  \n",
       "6362580            0.00            0.00        1  \n",
       "6362582            0.00            0.00        1  \n",
       "\n",
       "[301 rows x 8 columns]"
      ]
     },
     "execution_count": 20,
     "metadata": {},
     "output_type": "execute_result"
    }
   ],
   "source": [
    "data_test_under[(data_test_under.oldbalanceOrg>upper_limit3) | (data_test_under.oldbalanceOrg<lower_limit3)]"
   ]
  },
  {
   "cell_type": "code",
   "execution_count": 22,
   "id": "d58d222b",
   "metadata": {},
   "outputs": [
    {
     "data": {
      "text/html": [
       "<div>\n",
       "<style scoped>\n",
       "    .dataframe tbody tr th:only-of-type {\n",
       "        vertical-align: middle;\n",
       "    }\n",
       "\n",
       "    .dataframe tbody tr th {\n",
       "        vertical-align: top;\n",
       "    }\n",
       "\n",
       "    .dataframe thead th {\n",
       "        text-align: right;\n",
       "    }\n",
       "</style>\n",
       "<table border=\"1\" class=\"dataframe\">\n",
       "  <thead>\n",
       "    <tr style=\"text-align: right;\">\n",
       "      <th></th>\n",
       "      <th>step</th>\n",
       "      <th>type</th>\n",
       "      <th>amount</th>\n",
       "      <th>oldbalanceOrg</th>\n",
       "      <th>newbalanceOrig</th>\n",
       "      <th>oldbalanceDest</th>\n",
       "      <th>newbalanceDest</th>\n",
       "      <th>isFraud</th>\n",
       "    </tr>\n",
       "  </thead>\n",
       "  <tbody>\n",
       "    <tr>\n",
       "      <th>1533542</th>\n",
       "      <td>154</td>\n",
       "      <td>2</td>\n",
       "      <td>259500.87</td>\n",
       "      <td>2602539.43</td>\n",
       "      <td>2862040.30</td>\n",
       "      <td>2277849.22</td>\n",
       "      <td>2018348.35</td>\n",
       "      <td>0</td>\n",
       "    </tr>\n",
       "    <tr>\n",
       "      <th>6185610</th>\n",
       "      <td>567</td>\n",
       "      <td>1</td>\n",
       "      <td>26757.98</td>\n",
       "      <td>108635.83</td>\n",
       "      <td>81877.85</td>\n",
       "      <td>0.00</td>\n",
       "      <td>0.00</td>\n",
       "      <td>0</td>\n",
       "    </tr>\n",
       "    <tr>\n",
       "      <th>3005197</th>\n",
       "      <td>232</td>\n",
       "      <td>1</td>\n",
       "      <td>11223.25</td>\n",
       "      <td>40997.65</td>\n",
       "      <td>29774.40</td>\n",
       "      <td>0.00</td>\n",
       "      <td>0.00</td>\n",
       "      <td>0</td>\n",
       "    </tr>\n",
       "    <tr>\n",
       "      <th>822808</th>\n",
       "      <td>40</td>\n",
       "      <td>3</td>\n",
       "      <td>284852.00</td>\n",
       "      <td>0.00</td>\n",
       "      <td>0.00</td>\n",
       "      <td>1526139.91</td>\n",
       "      <td>1810991.91</td>\n",
       "      <td>0</td>\n",
       "    </tr>\n",
       "    <tr>\n",
       "      <th>671317</th>\n",
       "      <td>36</td>\n",
       "      <td>1</td>\n",
       "      <td>27152.63</td>\n",
       "      <td>0.00</td>\n",
       "      <td>0.00</td>\n",
       "      <td>0.00</td>\n",
       "      <td>0.00</td>\n",
       "      <td>0</td>\n",
       "    </tr>\n",
       "  </tbody>\n",
       "</table>\n",
       "</div>"
      ],
      "text/plain": [
       "         step  type     amount  oldbalanceOrg  newbalanceOrig  oldbalanceDest  \\\n",
       "1533542   154     2  259500.87     2602539.43      2862040.30      2277849.22   \n",
       "6185610   567     1   26757.98      108635.83        81877.85            0.00   \n",
       "3005197   232     1   11223.25       40997.65        29774.40            0.00   \n",
       "822808     40     3  284852.00           0.00            0.00      1526139.91   \n",
       "671317     36     1   27152.63           0.00            0.00            0.00   \n",
       "\n",
       "         newbalanceDest  isFraud  \n",
       "1533542      2018348.35        0  \n",
       "6185610            0.00        0  \n",
       "3005197            0.00        0  \n",
       "822808       1810991.91        0  \n",
       "671317             0.00        0  "
      ]
     },
     "execution_count": 22,
     "metadata": {},
     "output_type": "execute_result"
    }
   ],
   "source": [
    "data_test_under=data_test_under[(data_test_under.oldbalanceOrg<upper_limit3) & (data_test_under.oldbalanceOrg>lower_limit3)]\n",
    "data_test_under.head()"
   ]
  },
  {
   "cell_type": "code",
   "execution_count": 23,
   "id": "ab199fc3",
   "metadata": {},
   "outputs": [
    {
     "data": {
      "image/png": "[encoded data removed]",
      "text/plain": [
       "<Figure size 720x576 with 1 Axes>"
      ]
     },
     "metadata": {
      "needs_background": "light"
     },
     "output_type": "display_data"
    }
   ],
   "source": [
    "plt.figure(figsize=(10,8))\n",
    "sns.boxplot(data=data_test_under[[\"amount\",\"oldbalanceOrg\",\"newbalanceOrig\",\"oldbalanceDest\",\"newbalanceDest\"]],orient=\"h\")\n",
    "plt.show()"
   ]
  },
  {
   "cell_type": "code",
   "execution_count": 24,
   "id": "4e4459bc",
   "metadata": {},
   "outputs": [
    {
     "data": {
      "text/plain": [
       "0    7765\n",
       "1    7675\n",
       "Name: isFraud, dtype: int64"
      ]
     },
     "execution_count": 24,
     "metadata": {},
     "output_type": "execute_result"
    }
   ],
   "source": [
    "data_test_under[\"isFraud\"].value_counts()"
   ]
  },
  {
   "cell_type": "code",
   "execution_count": 25,
   "id": "0a0bde65",
   "metadata": {},
   "outputs": [
    {
     "data": {
      "image/png": "[encoded data removed]",
      "text/plain": [
       "<Figure size 432x288 with 1 Axes>"
      ]
     },
     "metadata": {
      "needs_background": "light"
     },
     "output_type": "display_data"
    }
   ],
   "source": [
    "sns.countplot(x=\"isFraud\",data=data_test_under)\n",
    "plt.show()"
   ]
  },
  {
   "cell_type": "code",
   "execution_count": 30,
   "id": "2b5823ba",
   "metadata": {},
   "outputs": [],
   "source": [
    "data_test_under.to_csv('DatasetAfterFE.csv',index=False)"
   ]
  },
  {
   "cell_type": "code",
   "execution_count": 28,
   "id": "0d51b2a4",
   "metadata": {},
   "outputs": [],
   "source": [
    "with open('feature_engineer_df.pkl', 'wb') as f:\n",
    "    pickle.dump(data_test_under, f)"
   ]
  },
  {
   "cell_type": "code",
   "execution_count": 29,
   "id": "26dcce14",
   "metadata": {},
   "outputs": [
    {
     "name": "stdout",
     "output_type": "stream",
     "text": [
      "Data saved successfully!\n"
     ]
    }
   ],
   "source": [
    "print(\"Data saved successfully!\")\n"
   ]
  },
  {
   "cell_type": "code",
   "execution_count": null,
   "id": "a91ffb8e",
   "metadata": {},
   "outputs": [],
   "source": []
  },
  {
   "cell_type": "code",
   "execution_count": null,
   "id": "fb6f95d5",
   "metadata": {},
   "outputs": [],
   "source": []
  },
  {
   "cell_type": "code",
   "execution_count": null,
   "id": "a91a8832",
   "metadata": {},
   "outputs": [],
   "source": []
  },
  {
   "cell_type": "code",
   "execution_count": null,
   "id": "a6e8eb92",
   "metadata": {},
   "outputs": [],
   "source": []
  }
 ],
 "metadata": {
  "kernelspec": {
   "display_name": "Python 3 (ipykernel)",
   "language": "python",
   "name": "python3"
  },
  "language_info": {
   "codemirror_mode": {
    "name": "ipython",
    "version": 3
   },
   "file_extension": ".py",
   "mimetype": "text/x-python",
   "name": "python",
   "nbconvert_exporter": "python",
   "pygments_lexer": "ipython3",
   "version": "3.9.12"
  }
 },
 "nbformat": 4,
 "nbformat_minor": 5
}
